{
  "nbformat": 4,
  "nbformat_minor": 0,
  "metadata": {
    "colab": {
      "provenance": [],
      "authorship_tag": "ABX9TyMFWqOyrnS0Y7Re1WIgWCrR",
      "include_colab_link": true
    },
    "kernelspec": {
      "name": "python3",
      "display_name": "Python 3"
    },
    "language_info": {
      "name": "python"
    }
  },
  "cells": [
    {
      "cell_type": "markdown",
      "metadata": {
        "id": "view-in-github",
        "colab_type": "text"
      },
      "source": [
        "<a href=\"https://colab.research.google.com/github/Harshanuthalapati/TASK-1/blob/main/Untitled4.ipynb\" target=\"_parent\"><img src=\"https://colab.research.google.com/assets/colab-badge.svg\" alt=\"Open In Colab\"/></a>"
      ]
    },
    {
      "cell_type": "code",
      "execution_count": 1,
      "metadata": {
        "colab": {
          "base_uri": "https://localhost:8080/"
        },
        "id": "3S5dcoYL1gBH",
        "outputId": "ce4e1285-35e5-4098-c3c3-1451b4d7ad60"
      },
      "outputs": [
        {
          "output_type": "stream",
          "name": "stdout",
          "text": [
            "Percentage of restaurants offering online delivery: 60.00%\n",
            "Average rating of restaurants with online delivery: 4.30\n",
            "Average rating of restaurants without online delivery: 3.72\n"
          ]
        }
      ],
      "source": [
        "import pandas as pd\n",
        "\n",
        "# Sample Data\n",
        "data = {\n",
        "    'restaurant_id': [1, 2, 3, 4, 5, 6, 7, 8, 9, 10],\n",
        "    'online_delivery': ['Yes', 'No', 'Yes', 'Yes', 'No', 'Yes', 'No', 'Yes', 'No', 'Yes'],\n",
        "    'rating': [4.5, 3.9, 4.2, 4.0, 3.8, 4.7, 3.7, 4.1, 3.5, 4.3]\n",
        "}\n",
        "\n",
        "# Create DataFrame\n",
        "df = pd.DataFrame(data)\n",
        "\n",
        "# Percentage of restaurants offering online delivery\n",
        "total_restaurants = df.shape[0]\n",
        "restaurants_with_delivery = df[df['online_delivery'] == 'Yes'].shape[0]\n",
        "\n",
        "percentage_delivery = (restaurants_with_delivery / total_restaurants) * 100\n",
        "\n",
        "print(f\"Percentage of restaurants offering online delivery: {percentage_delivery:.2f}%\")\n",
        "\n",
        "# Compare the average ratings of restaurants with and without online delivery\n",
        "avg_rating_with_delivery = df[df['online_delivery'] == 'Yes']['rating'].mean()\n",
        "avg_rating_without_delivery = df[df['online_delivery'] == 'No']['rating'].mean()\n",
        "\n",
        "print(f\"Average rating of restaurants with online delivery: {avg_rating_with_delivery:.2f}\")\n",
        "print(f\"Average rating of restaurants without online delivery: {avg_rating_without_delivery:.2f}\")\n"
      ]
    }
  ]
}