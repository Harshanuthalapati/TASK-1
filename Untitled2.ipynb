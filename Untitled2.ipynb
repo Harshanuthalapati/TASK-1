{
  "nbformat": 4,
  "nbformat_minor": 0,
  "metadata": {
    "colab": {
      "provenance": [],
      "authorship_tag": "ABX9TyOwrcRNCYhzI8bFMa0CBdVq",
      "include_colab_link": true
    },
    "kernelspec": {
      "name": "python3",
      "display_name": "Python 3"
    },
    "language_info": {
      "name": "python"
    }
  },
  "cells": [
    {
      "cell_type": "markdown",
      "metadata": {
        "id": "view-in-github",
        "colab_type": "text"
      },
      "source": [
        "<a href=\"https://colab.research.google.com/github/Harshanuthalapati/TASK-1/blob/main/Untitled2.ipynb\" target=\"_parent\"><img src=\"https://colab.research.google.com/assets/colab-badge.svg\" alt=\"Open In Colab\"/></a>"
      ]
    },
    {
      "cell_type": "code",
      "execution_count": 1,
      "metadata": {
        "colab": {
          "base_uri": "https://localhost:8080/"
        },
        "id": "iY2njhPmuyeu",
        "outputId": "b727552b-b4cd-40c0-fc8f-ff401a765368"
      },
      "outputs": [
        {
          "output_type": "stream",
          "name": "stdout",
          "text": [
            "Available columns: Index(['Restaurant ID', 'Restaurant Name', 'Country Code', 'City', 'Address',\n",
            "       'Locality', 'Locality Verbose', 'Longitude', 'Latitude', 'Cuisines',\n",
            "       'Average Cost for two', 'Currency', 'Has Table booking',\n",
            "       'Has Online delivery', 'Is delivering now', 'Switch to order menu',\n",
            "       'Price range', 'Aggregate rating', 'Rating color', 'Rating text',\n",
            "       'Votes'],\n",
            "      dtype='object')\n",
            "Column 'Price Range' not found in the dataset. Please check the column name.\n"
          ]
        }
      ],
      "source": [
        "import pandas as pd\n",
        "import matplotlib.pyplot as plt\n",
        "\n",
        "# Load the dataset (replace 'Dataset.csv' with the correct file path)\n",
        "df = pd.read_csv('/content/Dataset .csv')\n",
        "\n",
        "# Print available columns to check the correct column name for price range\n",
        "print(\"Available columns:\", df.columns)\n",
        "\n",
        "# Define the column for price range (replace with the actual column name if different)\n",
        "price_range_column = 'Price Range'  # Update this with the actual column name\n",
        "\n",
        "# Check if the required column exists\n",
        "if price_range_column in df.columns:\n",
        "\n",
        "    # 1. Create a histogram or bar chart for the distribution of price ranges\n",
        "    price_range_counts = df[price_range_column].value_counts()\n",
        "\n",
        "    plt.figure(figsize=(8, 6))\n",
        "    price_range_counts.plot(kind='bar', color='skyblue')\n",
        "    plt.title('Distribution of Price Ranges Among Restaurants')\n",
        "    plt.xlabel('Price Range')\n",
        "    plt.ylabel('Number of Restaurants')\n",
        "    plt.xticks(rotation=45)\n",
        "    plt.tight_layout()\n",
        "    plt.show()\n",
        "\n",
        "    # 2. Calculate the percentage of restaurants in each price range\n",
        "    total_restaurants = len(df)\n",
        "    price_range_percentage = (price_range_counts / total_restaurants) * 100\n",
        "\n",
        "    print(\"\\nPercentage of restaurants in each price range:\")\n",
        "    print(price_range_percentage)\n",
        "\n",
        "else:\n",
        "    print(f\"Column '{price_range_column}' not found in the dataset. Please check the column name.\")\n"
      ]
    }
  ]
}