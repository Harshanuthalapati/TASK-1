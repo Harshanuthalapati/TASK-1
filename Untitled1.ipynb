{
  "nbformat": 4,
  "nbformat_minor": 0,
  "metadata": {
    "colab": {
      "provenance": [],
      "authorship_tag": "ABX9TyPza4EjwVP7nOKiADXmKOfb",
      "include_colab_link": true
    },
    "kernelspec": {
      "name": "python3",
      "display_name": "Python 3"
    },
    "language_info": {
      "name": "python"
    }
  },
  "cells": [
    {
      "cell_type": "markdown",
      "metadata": {
        "id": "view-in-github",
        "colab_type": "text"
      },
      "source": [
        "<a href=\"https://colab.research.google.com/github/Harshanuthalapati/TASK-1/blob/main/Untitled1.ipynb\" target=\"_parent\"><img src=\"https://colab.research.google.com/assets/colab-badge.svg\" alt=\"Open In Colab\"/></a>"
      ]
    },
    {
      "cell_type": "code",
      "execution_count": 2,
      "metadata": {
        "colab": {
          "base_uri": "https://localhost:8080/"
        },
        "id": "V3lGNGupuS03",
        "outputId": "d1c10649-b52f-46f0-8f24-3488fc2630c3"
      },
      "outputs": [
        {
          "output_type": "stream",
          "name": "stdout",
          "text": [
            "Available columns: Index(['Restaurant ID', 'Restaurant Name', 'Country Code', 'City', 'Address',\n",
            "       'Locality', 'Locality Verbose', 'Longitude', 'Latitude', 'Cuisines',\n",
            "       'Average Cost for two', 'Currency', 'Has Table booking',\n",
            "       'Has Online delivery', 'Is delivering now', 'Switch to order menu',\n",
            "       'Price range', 'Aggregate rating', 'Rating color', 'Rating text',\n",
            "       'Votes'],\n",
            "      dtype='object')\n",
            "Please check if 'City' and 'Rating' columns exist in the dataset.\n"
          ]
        }
      ],
      "source": [
        "import pandas as pd\n",
        "\n",
        "# Load the dataset (replace 'Dataset.csv' with the correct file path)\n",
        "df = pd.read_csv('/content/Dataset .csv')\n",
        "\n",
        "# Print the available columns to check for the correct names\n",
        "print(\"Available columns:\", df.columns)\n",
        "\n",
        "# Define the columns for city and rating (replace with actual names if needed)\n",
        "city_column = 'City'  # Replace with actual column name for city\n",
        "rating_column = 'Rating'  # Replace with actual column name for rating\n",
        "\n",
        "# Check if the required columns exist\n",
        "if city_column in df.columns and rating_column in df.columns:\n",
        "\n",
        "    # 1. Identify the city with the highest number of restaurants\n",
        "    city_restaurant_counts = df[city_column].value_counts()\n",
        "    city_with_most_restaurants = city_restaurant_counts.idxmax()\n",
        "    most_restaurants_count = city_restaurant_counts.max()\n",
        "\n",
        "    print(f\"City with the highest number of restaurants: {city_with_most_restaurants} ({most_restaurants_count} restaurants)\")\n",
        "\n",
        "    # 2. Calculate the average rating for restaurants in each city\n",
        "    city_avg_rating = df.groupby(city_column)[rating_column].mean()\n",
        "\n",
        "    print(\"\\nAverage rating for each city:\")\n",
        "    print(city_avg_rating)\n",
        "\n",
        "    # 3. Determine the city with the highest average rating\n",
        "    city_with_highest_avg_rating = city_avg_rating.idxmax()\n",
        "    highest_avg_rating = city_avg_rating.max()\n",
        "\n",
        "    print(f\"\\nCity with the highest average rating: {city_with_highest_avg_rating} (Average rating: {highest_avg_rating:.2f})\")\n",
        "\n",
        "else:\n",
        "    print(f\"Please check if '{city_column}' and '{rating_column}' columns exist in the dataset.\")\n"
      ]
    }
  ]
}